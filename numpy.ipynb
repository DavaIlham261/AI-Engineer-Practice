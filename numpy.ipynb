{
 "cells": [
  {
   "cell_type": "code",
   "execution_count": 1,
   "id": "cf74220d",
   "metadata": {},
   "outputs": [],
   "source": [
    "import numpy as np"
   ]
  },
  {
   "cell_type": "code",
   "execution_count": 4,
   "id": "e335abd0",
   "metadata": {},
   "outputs": [
    {
     "name": "stdout",
     "output_type": "stream",
     "text": [
      "1.23.5\n",
      "Type: <class 'numpy.ndarray'>\n",
      "Array: [1 2 3 4 5]\n"
     ]
    }
   ],
   "source": [
    "arr = np.array([1, 2, 3, 4, 5])\n",
    "print(np.__version__)\n",
    "print(\"Type:\", type(arr))\n",
    "print(\"Array:\", arr)"
   ]
  },
  {
   "cell_type": "code",
   "execution_count": 7,
   "id": "cf5be5e3",
   "metadata": {},
   "outputs": [
    {
     "name": "stdout",
     "output_type": "stream",
     "text": [
      "[[1 2 3 4 5]\n",
      " [6 7 8 9 0]]\n",
      "[1 2 3 4 5]\n"
     ]
    }
   ],
   "source": [
    "squared_bracket_arr = np.array(([1,2,3,4,5], (6,7,8,9,0)))\n",
    "bracket_arr1 = np.array((1,2,3,4,5))\n",
    "\n",
    "print(squared_bracket_arr)\n",
    "print(bracket_arr1)"
   ]
  },
  {
   "cell_type": "code",
   "execution_count": 11,
   "id": "148992bf",
   "metadata": {},
   "outputs": [
    {
     "name": "stdout",
     "output_type": "stream",
     "text": [
      "\n",
      "0-D array: 42\n",
      "\n",
      "1-D array: [1 2 3 4 5]\n",
      "\n",
      "2-D array:\n",
      " [[1 2 3]\n",
      " [4 5 6]]\n",
      "\n",
      "3-D array:\n",
      " [[[1 2]\n",
      "  [3 4]]\n",
      "\n",
      " [[5 6]\n",
      "  [7 8]]]\n",
      "\n",
      "Higher dimensional array (5-D): [[[[[1 2 3 4]]]]]\n",
      "\n",
      "Dimensions of arr_0d: 0\n",
      "Dimensions of arr_1d: 1\n",
      "Dimensions of arr_2d: 2\n",
      "Dimensions of arr_3d: 3\n",
      "Dimensions of arr_higher: 5\n"
     ]
    }
   ],
   "source": [
    "# 0-D array\n",
    "arr_0d = np.array(42)\n",
    "print(\"\\n0-D array:\", arr_0d)\n",
    "\n",
    "# 1-D array\n",
    "arr_1d = np.array([1, 2, 3, 4, 5])\n",
    "print(\"\\n1-D array:\", arr_1d)\n",
    "\n",
    "# 2-D array\n",
    "arr_2d = np.array([[1, 2, 3], [4, 5, 6]])\n",
    "print(\"\\n2-D array:\\n\", arr_2d)\n",
    "\n",
    "# 3-D array\n",
    "arr_3d = np.array([[[1, 2], [3, 4]], [[5, 6], [7, 8]]])\n",
    "print(\"\\n3-D array:\\n\", arr_3d)\n",
    "\n",
    "# higher dimensional array\n",
    "arr_higher = np.array([1, 2, 3, 4], ndmin=5)\n",
    "print(\"\\nHigher dimensional array (5-D):\", arr_higher)\n",
    "\n",
    "\n",
    "# Check dimensions\n",
    "print(\"\\nDimensions of arr_0d:\", arr_0d.ndim)\n",
    "print(\"Dimensions of arr_1d:\", arr_1d.ndim)\n",
    "print(\"Dimensions of arr_2d:\", arr_2d.ndim)\n",
    "print(\"Dimensions of arr_3d:\", arr_3d.ndim)\n",
    "print(\"Dimensions of arr_higher:\", arr_higher.ndim)\n",
    "\n"
   ]
  },
  {
   "cell_type": "code",
   "execution_count": 16,
   "id": "6da6d013",
   "metadata": {},
   "outputs": [
    {
     "name": "stdout",
     "output_type": "stream",
     "text": [
      "[[[1 2]\n",
      "  [3 4]]\n",
      "\n",
      " [[5 6]\n",
      "  [7 8]]]\n",
      "\n",
      "Accessing elements:\n",
      "1-D array element at index 2: 30\n",
      "2-D array element at row 1, column 2: 6\n",
      "2-D array element at row 0, column 1: 2\n",
      "3-D array element at block 1, row 0, column 1: 6\n",
      "\n",
      "Negative indexing:\n",
      "1-D array element at index -1 (last element): 50\n",
      "2-D array element at row -1, column -2: 8\n",
      "2-D array element at row -1, column -2: 8\n",
      "3-D array element at block -1, row -1, column -1: 8\n"
     ]
    }
   ],
   "source": [
    "print(arr_3d)\n",
    "\n",
    "# Accessing array elements\n",
    "print(\"\\nAccessing elements:\")\n",
    "\n",
    "arr_1d = np.array([10, 20, 30, 40, 50])\n",
    "arr_2d = np.array([[1, 2, 3], [4, 5, 6], [7, 8, 9]])\n",
    "arr_3d = np.array([[[1, 2], [3, 4]], [[5, 6], [7, 8]]])\n",
    "print(\"1-D array element at index 2:\", arr_1d[2])\n",
    "print(\"2-D array element at row 1, column 2:\", arr_2d[1, 2])\n",
    "print(\"2-D array element at row 0, column 1:\", arr_2d[0, 1])\n",
    "print(\"3-D array element at block 1, row 0, column 1:\", arr_3d[1, 0, 1])\n",
    "\n",
    "# negative indexing\n",
    "print(\"\\nNegative indexing:\")\n",
    "print(\"1-D array element at index -1 (last element):\", arr_1d[-1])\n",
    "print(\"2-D array element at row -1, column -2:\", arr_2d[-1, -2])\n",
    "print(\"2-D array element at row -1, column -2:\", arr_2d[-1][-2])\n",
    "print(\"3-D array element at block -1, row -1, column -1:\", arr_3d[-1, -1, -1])"
   ]
  },
  {
   "cell_type": "code",
   "execution_count": 21,
   "id": "a2cdc7cd",
   "metadata": {},
   "outputs": [
    {
     "name": "stdout",
     "output_type": "stream",
     "text": [
      "\n",
      "Slicing arrays:\n",
      "[10 20 30 40 50]\n",
      "Slicing 1-D array from index 1 to 4: [20 30 40]\n",
      "\n",
      "[[1 2 3]\n",
      " [4 5 6]\n",
      " [7 8 9]]\n",
      "Slicing 2-D array rows 0 to 2 and columns 1 to 3:\n",
      " [[2 3]\n",
      " [5 6]]\n",
      "Slicing 2-D array all rows and column 1:\n",
      " [2 5 8]\n",
      "Slicing 2-D array row 1 and all columns:\n",
      " [7 8 9]\n",
      "\n",
      "[[[1 2]\n",
      "  [3 4]]\n",
      "\n",
      " [[5 6]\n",
      "  [7 8]]]\n",
      "Slicing 3-D array block 0 to 2, row 0 to 2, column 0 to 2:\n",
      " [[[1 2]\n",
      "  [3 4]]\n",
      "\n",
      " [[5 6]\n",
      "  [7 8]]]\n",
      "Slicing 3-D array all blocks, row 1, column 0 to 2:\n",
      " [[3 4]\n",
      " [7 8]]\n"
     ]
    }
   ],
   "source": [
    "# Slicing Arrays\n",
    "print(\"\\nSlicing arrays:\")\n",
    "print(arr_1d)\n",
    "print(\"Slicing 1-D array from index 1 to 4:\", arr_1d[1:4])\n",
    "print()\n",
    "print(arr_2d)\n",
    "print(\"Slicing 2-D array rows 0 to 2 and columns 1 to 3:\\n\", arr_2d[0:2, 1:3])\n",
    "print(\"Slicing 2-D array all rows and column 1:\\n\", arr_2d[:, 1])\n",
    "print(\"Slicing 2-D array row 1 and all columns:\\n\", arr_2d[-1, :])\n",
    "print()\n",
    "print(arr_3d)\n",
    "print(\"Slicing 3-D array block 0 to 2, row 0 to 2, column 0 to 2:\\n\", arr_3d[0:2, 0:2, 0:2])\n",
    "print(\"Slicing 3-D array all blocks, row 1, column 0 to 2:\\n\", arr_3d[:, 1, 0:2])"
   ]
  },
  {
   "cell_type": "code",
   "execution_count": 22,
   "id": "71fa930f",
   "metadata": {},
   "outputs": [
    {
     "name": "stdout",
     "output_type": "stream",
     "text": [
      "\n",
      "Reshaping arrays:\n",
      "Original array: [1 2 3 4 5 6]\n",
      "Reshaped array (2x3):\n",
      " [[1 2 3]\n",
      " [4 5 6]]\n",
      "\n",
      "Flattening arrays:\n",
      "Original 2-D array:\n",
      " [[1 2 3]\n",
      " [4 5 6]]\n",
      "Flattened array: [1 2 3 4 5 6]\n"
     ]
    }
   ],
   "source": [
    "# Reshaping Arrays\n",
    "print(\"\\nReshaping arrays:\")\n",
    "arr = np.array([1, 2, 3, 4, 5, 6])\n",
    "print(\"Original array:\", arr)\n",
    "reshaped_arr = arr.reshape(2, 3)\n",
    "print(\"Reshaped array (2x3):\\n\", reshaped_arr)\n",
    "\n",
    "# Flattening Arrays\n",
    "print(\"\\nFlattening arrays:\")\n",
    "arr_2d = np.array([[1, 2, 3], [4, 5, 6]])\n",
    "print(\"Original 2-D array:\\n\", arr_2d)\n",
    "flattened_arr = arr_2d.flatten()\n",
    "print(\"Flattened array:\", flattened_arr)"
   ]
  },
  {
   "cell_type": "code",
   "execution_count": 24,
   "id": "d45eae2c",
   "metadata": {},
   "outputs": [
    {
     "name": "stdout",
     "output_type": "stream",
     "text": [
      "\n",
      "Iterating arrays:\n",
      "Original array:\n",
      " [[1 2 3]\n",
      " [4 5 6]]\n",
      "Row: [1 2 3]\n",
      "Row: [4 5 6]\n",
      "\n",
      "Iterating each element:\n",
      "Element: 1\n",
      "Element: 2\n",
      "Element: 3\n",
      "Element: 4\n",
      "Element: 5\n",
      "Element: 6\n",
      "\n",
      "Using nditer():\n",
      "Element: 1\n",
      "Element: 2\n",
      "Element: 3\n",
      "Element: 4\n",
      "Element: 5\n",
      "Element: 6\n",
      "\n",
      "Changing data type during iteration:\n",
      "Element as string: b'1'\n",
      "Element as string: b'2'\n",
      "Element as string: b'3'\n",
      "Element as string: b'4'\n",
      "Element as string: b'5'\n",
      "Element as string: b'6'\n",
      "\n",
      "Iterating with different step size:\n",
      "Element: 1\n",
      "Element: 3\n",
      "Element: 5\n",
      "Element: 7\n"
     ]
    }
   ],
   "source": [
    "# iterasting Arrays\n",
    "print(\"\\nIterating arrays:\")\n",
    "arr = np.array([[1, 2, 3], [4, 5, 6]])\n",
    "print(\"Original array:\\n\", arr)\n",
    "for x in arr:\n",
    "    print(\"Row:\", x)\n",
    "\n",
    "print(\"\\nIterating each element:\")\n",
    "for x in arr:\n",
    "    for y in x:\n",
    "        print(\"Element:\", y)\n",
    "# Using nditer()\n",
    "print(\"\\nUsing nditer():\")\n",
    "for x in np.nditer(arr):\n",
    "    print(\"Element:\", x)\n",
    "    \n",
    "# Changing data type during iteration\n",
    "print(\"\\nChanging data type during iteration:\")\n",
    "for x in np.nditer(arr, flags=['buffered'], op_dtypes=['S']):\n",
    "    print(\"Element as string:\", x)\n",
    "\n",
    "# iterating with different step size\n",
    "print(\"\\nIterating with different step size:\")\n",
    "arr = np.array([[1, 2, 3, 4], [5, 6, 7, 8]])\n",
    "for x in np.nditer(arr[:, ::2]):\n",
    "    print(\"Element:\", x)\n"
   ]
  },
  {
   "cell_type": "code",
   "execution_count": 32,
   "id": "b5bd723e",
   "metadata": {},
   "outputs": [
    {
     "name": "stdout",
     "output_type": "stream",
     "text": [
      "\n",
      "Joining arrays:\n",
      "Concatenated array: [1 2 3 4 5 6]\n",
      "\n",
      "Stacking arrays:\n",
      "Stacked array along axis 0:\n",
      " [[1 2 3]\n",
      " [4 5 6]]\n",
      "Stacked array along axis 1:\n",
      " [[1 4]\n",
      " [2 5]\n",
      " [3 6]]\n"
     ]
    }
   ],
   "source": [
    "# Joining Arrays\n",
    "print(\"\\nJoining arrays:\")\n",
    "arr1 = np.array([1, 2, 3])\n",
    "arr2 = np.array([4, 5, 6])\n",
    "arr3 = np.concatenate((arr1, arr2))\n",
    "print(\"Concatenated array:\", arr3)\n",
    "\n",
    "# Stacking arrays\n",
    "print(\"\\nStacking arrays:\")\n",
    "arr1 = np.array([1, 2, 3])\n",
    "arr2 = np.array([4, 5, 6])\n",
    "arr3 = np.stack((arr1, arr2), axis=0) # axis=0 means stacking vertically or can use vstack\n",
    "print(\"Stacked array along axis 0:\\n\", arr3)\n",
    "arr4 = np.stack((arr1, arr2), axis=1) # axis=1 means stacking horizontally or can use dstack\n",
    "print(\"Stacked array along axis 1:\\n\", arr4)"
   ]
  },
  {
   "cell_type": "code",
   "execution_count": null,
   "id": "f8afb687",
   "metadata": {},
   "outputs": [
    {
     "name": "stdout",
     "output_type": "stream",
     "text": [
      "\n",
      "Splitting arrays:\n",
      "Split array into 3 parts: [array([1, 2]), array([3, 4]), array([5, 6])]\n",
      "Split 2-D array into 3 parts along axis 1: [array([[1],\n",
      "       [4],\n",
      "       [7]]), array([[2],\n",
      "       [5],\n",
      "       [8]]), array([[3],\n",
      "       [6],\n",
      "       [9]])]\n",
      "\n",
      "Using vsplit and hsplit:\n",
      "Split 2-D array into 3 parts along axis 0 (vsplit): [array([[1, 2, 3]]), array([[4, 5, 6]]), array([[7, 8, 9]])]\n",
      "Split 2-D array into 3 parts along axis 1 (hsplit): [array([[1],\n",
      "       [4],\n",
      "       [7]]), array([[2],\n",
      "       [5],\n",
      "       [8]]), array([[3],\n",
      "       [6],\n",
      "       [9]])]\n"
     ]
    }
   ],
   "source": [
    "# Splitting arrays\n",
    "print(\"\\nSplitting arrays:\")\n",
    "arr = np.array([1, 2, 3, 4, 5, 6])\n",
    "split_arr = np.array_split(arr, 3)\n",
    "print(\"Split array into 3 parts:\", split_arr)\n",
    "\n",
    "arr2d = np.array([[1, 2, 3], [4, 5, 6], [7, 8, 9]])\n",
    "split_arr2d = np.array_split(arr2d, 3, axis=1)\n",
    "print(\"Split 2-D array into 3 parts along axis 1:\", split_arr2d)\n",
    "# Splitting using vsplit and hsplit\n",
    "print(\"\\nUsing vsplit and hsplit:\")\n",
    "print(\"Split 2-D array into 3 parts along axis 0 (vsplit):\", np.vsplit(arr2d, 3))\n",
    "print(\"Split 2-D array into 3 parts along axis 1 (hsplit):\", np.hsplit(arr2d, 3))\n"
   ]
  },
  {
   "cell_type": "code",
   "execution_count": null,
   "id": "74a5ff00",
   "metadata": {},
   "outputs": [
    {
     "name": "stdout",
     "output_type": "stream",
     "text": [
      "\n",
      "Searching arrays:\n",
      "Indices of elements equal to 3: (array([2, 5, 9], dtype=int64),)\n",
      "Indices of even elements: (array([1, 3, 6, 8], dtype=int64),)\n",
      "Even elements: [2 4 6 8]\n",
      "\n",
      "Searching sorted arrays:\n",
      "Index to insert 3 to keep array sorted: 2\n",
      "Index to insert 7 to keep array sorted: 5\n",
      "Index to insert 5 to the right to keep array sorted: 4\n",
      "Index to insert 5 to the left to keep array sorted: 3\n",
      "Indices to insert 3 and 7 to keep array sorted: [2 5]\n"
     ]
    }
   ],
   "source": [
    "# Searching Arrays\n",
    "print(\"\\nSearching arrays:\")\n",
    "arr = np.array([1, 2, 3, 4, 5, 3, 6, 7, 8, 3])\n",
    "result = np.where(arr == 3)\n",
    "print(\"Indices of elements equal to 3:\", result)\n",
    "result = np.where(arr % 2 == 0)\n",
    "print(\"Indices of even elements:\", result)\n",
    "even_elements = arr[result]\n",
    "print(\"Even elements:\", even_elements)\n",
    "\n",
    "# searching sorted arrays\n",
    "print(\"\\nSearching sorted arrays:\")\n",
    "sorted_arr = np.array([1, 2, 4, 5, 6, 8])\n",
    "index = np.searchsorted(sorted_arr, 3)\n",
    "print(\"Index to insert 3 to keep array sorted:\", index)\n",
    "index = np.searchsorted(sorted_arr, 7)\n",
    "print(\"Index to insert 7 to keep array sorted:\", index)\n",
    "# using side parameter\n",
    "index = np.searchsorted(sorted_arr, 5, side='right')\n",
    "print(\"Index to insert 5 to the right to keep array sorted:\", index)\n",
    "index = np.searchsorted(sorted_arr, 5, side='left')\n",
    "print(\"Index to insert 5 to the left to keep array sorted:\", index)\n",
    "# Searching with multiple values\n",
    "values = [3, 7]\n",
    "indices = np.searchsorted(sorted_arr, values)\n",
    "print(\"Indices to insert 3 and 7 to keep array sorted:\", indices)\n",
    "\n",
    "\n"
   ]
  },
  {
   "cell_type": "code",
   "execution_count": 39,
   "id": "9624582d",
   "metadata": {},
   "outputs": [
    {
     "name": "stdout",
     "output_type": "stream",
     "text": [
      "\n",
      "Sorting Arrays:\n",
      "Original array: [15 38 41 46]\n",
      "Sorted array: [15 38 41 46]\n",
      "\n",
      "Sorting a 2-D array:\n",
      "Original 2-D array:\n",
      " [[3 2 1]\n",
      " [6 5 4]]\n",
      "Sorted 2-D array along axis 1:\n",
      " [[1 2 3]\n",
      " [4 5 6]]\n",
      "Sorted 2-D array along axis 0:\n",
      " [[3 2 1]\n",
      " [6 5 4]]\n",
      "\n",
      "Sorting a 3-D array:\n",
      "Original 3-D array:\n",
      " [[[ 9  8  7]\n",
      "  [ 6  5  4]]\n",
      "\n",
      " [[ 3  2  1]\n",
      "  [ 0 -1 -2]]]\n",
      "Sorted 3-D array along axis 2:\n",
      " [[[ 7  8  9]\n",
      "  [ 4  5  6]]\n",
      "\n",
      " [[ 1  2  3]\n",
      "  [-2 -1  0]]]\n",
      "Sorted 3-D array along axis 1:\n",
      " [[[ 6  5  4]\n",
      "  [ 9  8  7]]\n",
      "\n",
      " [[ 0 -1 -2]\n",
      "  [ 3  2  1]]]\n"
     ]
    }
   ],
   "source": [
    "# Sorting Arrays\n",
    "print(\"\\nSorting Arrays:\")\n",
    "arr = np.array([15, 38, 41, 46])\n",
    "print(\"Original array:\", arr)\n",
    "x = np.sort(arr)\n",
    "print(\"Sorted array:\", x)\n",
    "# Sorting a 2-D array\n",
    "print(\"\\nSorting a 2-D array:\")\n",
    "arr_2d = np.array([[3, 2, 1], [6, 5, 4]])\n",
    "print(\"Original 2-D array:\\n\", arr_2d)\n",
    "print(\"Sorted 2-D array along axis 1:\\n\", np.sort(arr_2d, axis=1))\n",
    "print(\"Sorted 2-D array along axis 0:\\n\", np.sort(arr_2d, axis=0))\n",
    "# Sorting a 3-D array\n",
    "print(\"\\nSorting a 3-D array:\")\n",
    "arr_3d = np.array([[[9, 8, 7], [6, 5, 4]], [[3, 2, 1], [0, -1, -2]]])\n",
    "print(\"Original 3-D array:\\n\", arr_3d)\n",
    "print(\"Sorted 3-D array along axis 2:\\n\", np.sort(arr_3d, axis=2))\n",
    "print(\"Sorted 3-D array along axis 1:\\n\", np.sort(arr_3d, axis=1))"
   ]
  },
  {
   "cell_type": "code",
   "execution_count": null,
   "id": "df0c33e5",
   "metadata": {},
   "outputs": [
    {
     "name": "stdout",
     "output_type": "stream",
     "text": [
      "\n",
      "Filtering Arrays:\n",
      "Original array: [1 2 3 4 5 6 7]\n",
      "[False, True, False, True, False, True, False]\n",
      "[2 4 6]\n",
      "\n",
      "Directly creating the filter array:\n",
      "[False  True False  True False  True False]\n",
      "[2 4 6]\n"
     ]
    }
   ],
   "source": [
    "# Filtering Arrays\n",
    "print(\"\\nFiltering Arrays:\")\n",
    "arr = np.array([1, 2, 3, 4, 5, 6, 7])\n",
    "print(\"Original array:\", arr)\n",
    "\n",
    "# Create an empty list\n",
    "filter_arr = []\n",
    "\n",
    "# go through each element in arr\n",
    "for element in arr:\n",
    "  # if the element is completely divisble by 2, set the value to True, otherwise False\n",
    "  if element % 2 == 0:\n",
    "    filter_arr.append(True)\n",
    "  else:\n",
    "    filter_arr.append(False)\n",
    "\n",
    "newarr = arr[filter_arr]\n",
    "\n",
    "print(filter_arr)\n",
    "print(newarr)\n",
    "\n",
    "# directly creating the filter array\n",
    "filter_arr = arr % 2 == 0\n",
    "newarr = arr[filter_arr]\n",
    "print(\"\\nDirectly creating the filter array:\")\n",
    "print(filter_arr)\n",
    "print(newarr)"
   ]
  },
  {
   "cell_type": "code",
   "execution_count": 44,
   "id": "1465aa92",
   "metadata": {},
   "outputs": [
    {
     "name": "stdout",
     "output_type": "stream",
     "text": [
      "\n",
      "Random Numbers:\n",
      "Random integer between 0 and 100: 29\n",
      "Random float between 0 and 1: 0.6231064264796239\n",
      "Array of 5 random integers between 0 and 100: [39 10 30 48 51]\n",
      "3x5 array of random floats between 0 and 1:\n",
      " [[0.74090494 0.05213386 0.81518921 0.14508571 0.92838916]\n",
      " [0.48880957 0.78781962 0.30428238 0.61616961 0.32455305]\n",
      " [0.99529818 0.92712813 0.62575338 0.46498224 0.2348312 ]]\n",
      "Randomly selected element from [3, 5, 7, 9]: [[7 5 3 5 9]\n",
      " [3 7 7 9 5]\n",
      " [7 9 5 3 9]]\n"
     ]
    }
   ],
   "source": [
    "from numpy import random\n",
    "# Random Numbers\n",
    "print(\"\\nRandom Numbers:\")\n",
    "x = random.randint(100)\n",
    "print(\"Random integer between 0 and 100:\", x)\n",
    "x = random.rand()\n",
    "print(\"Random float between 0 and 1:\", x)\n",
    "x = random.randint(100, size=(5))\n",
    "print(\"Array of 5 random integers between 0 and 100:\", x)\n",
    "x = random.rand(3, 5)\n",
    "print(\"3x5 array of random floats between 0 and 1:\\n\", x)\n",
    "x = random.choice([3, 5, 7, 9], size=(3, 5))\n",
    "print(\"Randomly selected element from [3, 5, 7, 9]:\", x)\n"
   ]
  },
  {
   "cell_type": "code",
   "execution_count": 46,
   "id": "4b434312",
   "metadata": {},
   "outputs": [
    {
     "name": "stdout",
     "output_type": "stream",
     "text": [
      "\n",
      "Data Distribution:\n",
      "[[5 5 5 7 5]\n",
      " [5 5 5 5 5]\n",
      " [5 5 7 7 7]]\n"
     ]
    }
   ],
   "source": [
    "# Random Data Distribution\n",
    "print(\"\\nData Distribution:\")\n",
    "x = random.choice([3, 5, 7, 9],p=[.1, .6, .3, 0], size=(3, 5))\n",
    "print(x)\n"
   ]
  },
  {
   "cell_type": "code",
   "execution_count": 68,
   "id": "251f7520",
   "metadata": {},
   "outputs": [
    {
     "name": "stdout",
     "output_type": "stream",
     "text": [
      "\n",
      "Permutation:\n",
      "Original array:\n",
      " [[1 2 3 4]\n",
      " [5 6 7 8]]\n",
      "Permuted array:\n",
      " [[1 2 3 4]\n",
      " [5 6 7 8]]\n",
      "Permuted first row of the array:\n",
      " [4 1 3 2]\n"
     ]
    }
   ],
   "source": [
    "# Permutation\n",
    "print(\"\\nPermutation:\")\n",
    "x = np.array([[1, 2, 3, 4], [5, 6, 7, 8]])\n",
    "print(\"Original array:\\n\", x)\n",
    "y = random.permutation(x)\n",
    "print(\"Permuted array:\\n\", y)\n",
    "y = random.permutation(x[0])\n",
    "print(\"Permuted first row of the array:\\n\", y)"
   ]
  },
  {
   "cell_type": "code",
   "execution_count": 94,
   "id": "879790f2",
   "metadata": {},
   "outputs": [
    {
     "name": "stdout",
     "output_type": "stream",
     "text": [
      "[7 0 3 0 1]\n"
     ]
    },
    {
     "data": {
      "image/png": "[encoded data removed]",
      "text/plain": [
       "<Figure size 500x500 with 1 Axes>"
      ]
     },
     "metadata": {},
     "output_type": "display_data"
    },
    {
     "data": {
      "image/png": "[encoded data removed]",
      "text/plain": [
       "<Figure size 500x500 with 1 Axes>"
      ]
     },
     "metadata": {},
     "output_type": "display_data"
    }
   ],
   "source": [
    "import seaborn as sns\n",
    "import matplotlib.pyplot as plt\n",
    "\n",
    "ran_arr = random.randint(10, size=5)\n",
    "print(ran_arr)\n",
    "sns.displot(ran_arr)\n",
    "sns.displot(ran_arr, kind=\"kde\")\n",
    "plt.show()"
   ]
  },
  {
   "cell_type": "code",
   "execution_count": 96,
   "id": "79fe76c0",
   "metadata": {},
   "outputs": [
    {
     "name": "stdout",
     "output_type": "stream",
     "text": [
      "\n",
      "Normal Distribution:\n",
      "[[ 0.14748904  0.03759694 -0.98431541]\n",
      " [ 0.07720174 -0.90683243 -1.29247076]]\n",
      "[[ 0.7419182   0.07947479  0.6819774 ]\n",
      " [-1.12846061 -0.59051677 -0.88506727]]\n"
     ]
    }
   ],
   "source": [
    "# Normal Distribution\n",
    "print(\"\\nNormal Distribution:\")\n",
    "x = random.normal(size=(2, 3))\n",
    "print(x)\n",
    "x = random.normal(loc=0.0, scale=1.0, size=(2, 3))\n",
    "print(x)"
   ]
  }
 ],
 "metadata": {
  "kernelspec": {
   "display_name": "Python 3",
   "language": "python",
   "name": "python3"
  },
  "language_info": {
   "codemirror_mode": {
    "name": "ipython",
    "version": 3
   },
   "file_extension": ".py",
   "mimetype": "text/x-python",
   "name": "python",
   "nbconvert_exporter": "python",
   "pygments_lexer": "ipython3",
   "version": "3.10.8"
  }
 },
 "nbformat": 4,
 "nbformat_minor": 5
}
